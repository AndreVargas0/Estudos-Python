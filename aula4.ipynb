{
 "cells": [
  {
   "cell_type": "markdown",
   "metadata": {},
   "source": [
    "# **AULA 4**"
   ]
  },
  {
   "cell_type": "code",
   "execution_count": 1,
   "metadata": {},
   "outputs": [
    {
     "name": "stdout",
     "output_type": "stream",
     "text": [
      "Divisão inteira: 5\n",
      "Divisão normal: 5.0\n",
      "Resto: 0\n",
      "Exponenciação: 100\n"
     ]
    }
   ],
   "source": [
    "\n",
    "#Obtendo as entradas\n",
    "n1 = input(\"Digite o valor de n1: \")\n",
    "n2 = input(\"Digite o valor de n2: \")\n",
    "\n",
    "#Convertendo as Entradas\n",
    "n1 = int(n1)\n",
    "n2 = int(n2)\n",
    "\n",
    "DivisãoInteira = n1 // n2 \n",
    "DivisãoNormal =n1 / n2 \n",
    "resto = n1 % n2\n",
    "Exponencial = n1 ** n2\n",
    "\n",
    "print(f\"Divisão inteira: {DivisãoInteira}\" )\n",
    "print(f\"Divisão normal: {DivisãoNormal}\" )\n",
    "print(f\"Resto: {resto}\" )\n",
    "print(f\"Exponenciação: {Exponencial}\" )"
   ]
  },
  {
   "cell_type": "code",
   "execution_count": 2,
   "metadata": {},
   "outputs": [
    {
     "name": "stdout",
     "output_type": "stream",
     "text": [
      "Resultado de atribuição de subtração 0\n",
      "Resultado de atribuição da soma 10\n",
      "Resultado de atribuição de multiplicação -100\n",
      "Resultado de atribuição de Divisão -10.0\n",
      "Resultado de atribuição de Divisão inteira -1.0\n",
      "Resultado da atribuição de modulo: 9.0\n"
     ]
    }
   ],
   "source": [
    "#Atribuição de Subtração\n",
    "valor=10\n",
    "valor -= 10\n",
    "print(f\"Resultado de atribuição de subtração {valor}\")\n",
    "\n",
    "#Atribuição de soma\n",
    "valor += 10\n",
    "print(f\"Resultado de atribuição da soma {valor}\")\n",
    "\n",
    "#Atribuição de Multiplicação\n",
    "valor *= -10\n",
    "print(f\"Resultado de atribuição de multiplicação {valor}\")\n",
    "\n",
    "#Atribuição de Divisão\n",
    "valor /= 10\n",
    "print(f\"Resultado de atribuição de Divisão {valor}\")\n",
    "\n",
    "#Atribuição de Divisão inteira\n",
    "valor//=10\n",
    "print(f\"Resultado de atribuição de Divisão inteira {valor}\")\n",
    "\n",
    "#Atribuição de modulo\n",
    "valor %= 10\n",
    "print(f\"Resultado da atribuição de modulo: {valor}\" )"
   ]
  },
  {
   "cell_type": "markdown",
   "metadata": {},
   "source": [
    "## Atividade\n",
    "\n",
    "- Crie um programa para o O boletim de notas do aluno. Guarde o nome do aluno, as notas e calcule a media final do aluno\n",
    "\n",
    "-Disciplinas\n",
    "  Matematica\n",
    "  Português\n",
    "  Geografia \n",
    "  Historia\n",
    "  Física\n",
    "  "
   ]
  },
  {
   "cell_type": "code",
   "execution_count": 13,
   "metadata": {},
   "outputs": [
    {
     "name": "stdout",
     "output_type": "stream",
     "text": [
      "------------------------------ BOLETIM ESCOLAR ------------------------------\n",
      "As notas do André em matematica foi de: 10.0, em Português: 1.0, em Geografia: 1.0, em historia: 1.0, em Física: 1.0\n",
      "A média do aluno foi: 2.80\n",
      "O aluno não foi aprovado\n"
     ]
    }
   ],
   "source": [
    "print(30*\"-\", \"BOLETIM ESCOLAR\", 30*\"-\")\n",
    "\n",
    "nome = str(input(\"Digite o nome do aluno: \")) \n",
    "nota_matematica = float(input(\"Digite a nota de matematica do aluno: \"))\n",
    "nota_Português = float(input(\"Digite a nota de Portuguêsdo aluno: \"))\n",
    "nota_Geografia = float(input(\"Digite a nota de Geografia do aluno: \"))\n",
    "nota_Historia = float(input(\"Digite a nota de Historia do aluno: \"))\n",
    "nota_Física = float(input(\"Digite a nota de Física do aluno: \")) \n",
    "média = (nota_matematica + nota_Português + nota_Geografia + nota_Historia + nota_Física) / 5\n",
    "print(f\"As notas do {Nome} em matematica foi de: {nota_matematica}, em Português: {nota_Português}, em Geografia: {nota_Geografia}, em historia: {nota_Historia}, em Física: {nota_Física}\")\n",
    "print(f\"A média do aluno foi: {média:.2F}\")\n",
    "if média > 7: \n",
    "    print(\"o aluno foi aprovado\")\n",
    "else: \n",
    "    print(\"O aluno não foi aprovado\")"
   ]
  }
 ],
 "metadata": {
  "kernelspec": {
   "display_name": ".venv",
   "language": "python",
   "name": "python3"
  },
  "language_info": {
   "codemirror_mode": {
    "name": "ipython",
    "version": 3
   },
   "file_extension": ".py",
   "mimetype": "text/x-python",
   "name": "python",
   "nbconvert_exporter": "python",
   "pygments_lexer": "ipython3",
   "version": "3.12.4"
  }
 },
 "nbformat": 4,
 "nbformat_minor": 2
}
