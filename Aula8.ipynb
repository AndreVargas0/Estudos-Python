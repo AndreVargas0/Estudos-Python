{
 "cells": [
  {
   "cell_type": "markdown",
   "metadata": {},
   "source": [
    "# **AULA 8**\n"
   ]
  },
  {
   "cell_type": "markdown",
   "metadata": {},
   "source": [
    "# Laço while\n",
    "O while é um bloco que repete um algoritimo enquanto uma determinada condição for verdadeira. Vamos começar com uma demonstração bem simples. Criar um programa que recebe uma contagem de 10 a 0. "
   ]
  },
  {
   "cell_type": "code",
   "execution_count": 8,
   "metadata": {},
   "outputs": [
    {
     "name": "stdout",
     "output_type": "stream",
     "text": [
      "10\n",
      "9\n",
      "8\n",
      "7\n",
      "6\n",
      "5\n",
      "4\n",
      "3\n",
      "2\n",
      "1\n",
      "0\n"
     ]
    }
   ],
   "source": [
    "número = 10\n",
    "\n",
    "while número >= 0:\n",
    "    print(número)\n",
    "    número -= 1"
   ]
  },
  {
   "cell_type": "markdown",
   "metadata": {},
   "source": [
    "# Continue\n",
    "\n",
    "O comando continue serve para que a execução do restante do bloco seja desconsiderada e o código ignorado. O loop terá sua contagem contabilizada e o programa retorna para o início do loop."
   ]
  },
  {
   "cell_type": "code",
   "execution_count": 1,
   "metadata": {},
   "outputs": [
    {
     "name": "stdout",
     "output_type": "stream",
     "text": [
      "2\n",
      "contando\n",
      "4\n",
      "contando\n",
      "6\n",
      "contando\n",
      "8\n",
      "contando\n",
      "10\n",
      "contando\n"
     ]
    }
   ],
   "source": [
    "cont = 0\n",
    "while cont < 10:\n",
    "    cont += 1\n",
    "    if cont % 2 == 0:\n",
    "        print(cont)\n",
    "    else:\n",
    "        continue\n",
    "    print(\"contando\")"
   ]
  },
  {
   "cell_type": "markdown",
   "metadata": {},
   "source": [
    "# Break\n",
    "\n",
    "O comando break faz o contrario encerra imediatamente o loop e vai para o final do programa, sem terminar o loop, mesmo que a condição esteja sendo atendida:"
   ]
  },
  {
   "cell_type": "code",
   "execution_count": 3,
   "metadata": {},
   "outputs": [
    {
     "name": "stdout",
     "output_type": "stream",
     "text": [
      "2\n",
      "Contando\n",
      "4\n",
      "Contando\n",
      "6\n",
      "Contando\n"
     ]
    }
   ],
   "source": [
    "cont= 0\n",
    "while cont < 15:\n",
    "    cont += 1\n",
    "    if cont % 2 == 0:\n",
    "        print(cont)\n",
    "    elif cont >= 7:\n",
    "        break\n",
    "    else:\n",
    "        continue\n",
    "\n",
    "    print(\"Contando\")"
   ]
  },
  {
   "cell_type": "markdown",
   "metadata": {},
   "source": [
    "# Pass\n",
    "O comando pass é utilizado para o programa simplesmente pular uma determinada opção. Pode ser substituido por '...'"
   ]
  },
  {
   "cell_type": "code",
   "execution_count": 11,
   "metadata": {},
   "outputs": [
    {
     "name": "stdout",
     "output_type": "stream",
     "text": [
      "Contando... \n",
      "2\n",
      "Contando... \n",
      "Contando... \n",
      "4\n",
      "Contando... \n",
      "6\n",
      "Contando... \n",
      "8\n",
      "Contando... \n",
      "10\n",
      "Contando... \n",
      "12\n",
      "Contando... \n",
      "14\n",
      "Contando... \n"
     ]
    }
   ],
   "source": [
    "cont =0 \n",
    "while cont < 20:\n",
    "    cont += 1\n",
    "    if cont % 2 == 0:\n",
    "        print(cont)\n",
    "\n",
    "    elif cont< 5:\n",
    "        ...\n",
    "\n",
    "    elif cont >=15:\n",
    "        break\n",
    "\n",
    "    else:\n",
    "        continue\n",
    "    print(\"Contando... \")"
   ]
  },
  {
   "cell_type": "markdown",
   "metadata": {},
   "source": [
    "# Phyton não possui o laço do ... while"
   ]
  },
  {
   "cell_type": "code",
   "execution_count": 1,
   "metadata": {},
   "outputs": [],
   "source": [
    "# Loop \n",
    "\n",
    "while True:\n",
    "    # entrada do nome\n",
    "    nome = input(\"Informe o seu nome ou deixe em branco para sair: \")\n",
    "\n",
    "    #verifica se o valor foi informado ou não\n",
    "\n",
    "    if nome != '':\n",
    "        #Entrada da idade \n",
    "        idade = int(input(\"Informe sua idade: \"))\n",
    "        \n",
    "        #verificação da idade\n",
    "        if idade >=18:\n",
    "            print(f\"{nome} é maior de idade \")\n",
    "        else: \n",
    "            print(f\"{nome} é menor de idade \")\n",
    "        continue # continua o loop\n",
    "    else:\n",
    "        break #quebra o loop"
   ]
  },
  {
   "cell_type": "code",
   "execution_count": 1,
   "metadata": {},
   "outputs": [
    {
     "name": "stdout",
     "output_type": "stream",
     "text": [
      "andre está com grau de obesidade I.\n"
     ]
    }
   ],
   "source": [
    "\n",
    "while True:\n",
    "    nome = input(\"Informe o seu nome ou deixe em branco para sair: \")\n",
    "\n",
    "    if nome != \"\":\n",
    "        altura = float(input(\"Digite a sua altura: \").replace(',','.'))\n",
    "        peso = float(input(\"Digite o seu peso: \").replace(',','.'))\n",
    "\n",
    "        imc = peso / (altura * altura)\n",
    "    \n",
    "        if  imc  < 17:\n",
    "            print(f\"{nome} está com anorexia.\")\n",
    "        elif imc < 18.5:\n",
    "            print(f\"{nome} está abaixo do peso\") \n",
    "        elif  imc  < 25:\n",
    "            print(f\"{nome} está no peso ideal.\")\n",
    "        elif imc < 30:\n",
    "            print(f\"{nome} está acima do peso.\")\n",
    "        elif imc  < 35:\n",
    "            print(f\"{nome} está com grau de obesidade I.\")\n",
    "        elif imc < 40.5:\n",
    "            print(f\"{nome} está com grau de obesidade II.\")\n",
    "        else:  \n",
    "            print(f\"{nome} está com grau de obesidade mórbida.\")\n",
    "    else:\n",
    "        break"
   ]
  }
 ],
 "metadata": {
  "kernelspec": {
   "display_name": ".venv",
   "language": "python",
   "name": "python3"
  },
  "language_info": {
   "codemirror_mode": {
    "name": "ipython",
    "version": 3
   },
   "file_extension": ".py",
   "mimetype": "text/x-python",
   "name": "python",
   "nbconvert_exporter": "python",
   "pygments_lexer": "ipython3",
   "version": "3.12.4"
  }
 },
 "nbformat": 4,
 "nbformat_minor": 2
}
