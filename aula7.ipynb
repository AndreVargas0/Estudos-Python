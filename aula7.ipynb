{
 "cells": [
  {
   "cell_type": "markdown",
   "metadata": {},
   "source": [
    "# **AULA 7**\n"
   ]
  },
  {
   "cell_type": "markdown",
   "metadata": {},
   "source": [
    "## Operador ternário\n",
    "- Usar operador ternário quando as alternativas forem pequenas, e quando tiver apenas 2 ou no máximo 3 alternativas.\n",
    "- No exemplo a variável precisa ser inteira"
   ]
  },
  {
   "cell_type": "code",
   "execution_count": null,
   "metadata": {},
   "outputs": [
    {
     "name": "stdout",
     "output_type": "stream",
     "text": [
      "karython é maior de idade.\n"
     ]
    }
   ],
   "source": [
    "nome = 'karython'\n",
    "idade = 18\n",
    "\n",
    "print(nome, 'é maior de idade.' if idade >= 18 else 'é menor de idade')"
   ]
  },
  {
   "cell_type": "markdown",
   "metadata": {},
   "source": [
    "## Replace\n",
    "- substituir"
   ]
  },
  {
   "cell_type": "code",
   "execution_count": null,
   "metadata": {},
   "outputs": [
    {
     "name": "stdout",
     "output_type": "stream",
     "text": [
      "<class 'str'>\n",
      "<class 'float'>\n"
     ]
    }
   ],
   "source": [
    "peso = input(\"Digite seu peso: \").replace(',','.')\n",
    "print(type(peso))\n",
    "peso = float(peso)\n",
    "print(type(peso))\n"
   ]
  },
  {
   "cell_type": "markdown",
   "metadata": {},
   "source": [
    "## Desafio 01\n",
    "- Crie um programa para fazer a verificação de um cliente para saber se ele pode usar o brinquedo ou não.\n",
    "    - Para brincar ele precisa:\n",
    "        - ter mais que 12 anos\n",
    "        - ter altura minima de 1,20 mts"
   ]
  },
  {
   "cell_type": "code",
   "execution_count": null,
   "metadata": {},
   "outputs": [
    {
     "name": "stdout",
     "output_type": "stream",
     "text": [
      "Pode usar o brinquedo!\n"
     ]
    }
   ],
   "source": [
    "# TODO: Resposta desafio 01\n",
    "\n",
    "idade = int(input(\"Digite a sua idade: \"))\n",
    "altura = input(\"Digite a sua altura: \").replace(',','.')\n",
    "\n",
    "if idade >= 12 or altura > 1.20:\n",
    "    print(\"Pode usar o brinquedo!\")\n",
    "else:\n",
    "    print(\"Não pode usar o brinquedo!\")\n"
   ]
  },
  {
   "cell_type": "markdown",
   "metadata": {},
   "source": [
    "## Desafio 02\n",
    "- Crie um programa que verifica se o aluno poderar ir a praia.\n",
    "    - Para ir a praia ele precisa:\n",
    "        - Verifica se acordei de bom humor\n",
    "        - Verifica se o pai ja chegou em casa para leva-lo"
   ]
  },
  {
   "cell_type": "code",
   "execution_count": null,
   "metadata": {},
   "outputs": [
    {
     "name": "stdout",
     "output_type": "stream",
     "text": [
      "Você não pode ir para a praia!\n"
     ]
    }
   ],
   "source": [
    "# TODO: Resposta desafio 02\n",
    "humor = str(input(\"Você está de bom humor? 'S' para sim, 'N' para não\")).upper()\n",
    "pai = str(input(\"Seu pai está em casa? 'S' para sim, 'N' para não\")).upper()\n",
    "\n",
    "if  humor == 'S' and pai == 'S' :\n",
    "    print(\"Você pode ir para a praia!\")\n",
    "else:\n",
    "    print(\"Você não pode ir para a praia!\")"
   ]
  },
  {
   "cell_type": "markdown",
   "metadata": {},
   "source": [
    "## Desafio 03\n",
    "- Crie um programa que calcule o indice de massa corporal de um usuário\n",
    "    - pegue os valores de altura e peso\n",
    "        - use a conversão de valores\n",
    "        - use replace\n",
    "        - imprima se ele esta acima do peso ou nao"
   ]
  },
  {
   "cell_type": "code",
   "execution_count": null,
   "metadata": {},
   "outputs": [
    {
     "name": "stdout",
     "output_type": "stream",
     "text": [
      "Você não está sobrepeso\n"
     ]
    }
   ],
   "source": [
    "# TODO: Resposta desafio 03\n",
    "altura = float(input(\"Digite a sua altura: \")).replace(',','.')\n",
    "peso = float(input(\"Digite o seu peso: \")).replace(',','.')\n",
    "\n",
    "imc = peso / (altura * altura)\n",
    "\n",
    "if  imc  > 25:\n",
    "    print(\"Você está sobrepeso\")\n",
    "else:\n",
    "    print(\"Você não está sobrepeso\")\n"
   ]
  },
  {
   "cell_type": "markdown",
   "metadata": {},
   "source": [
    "## Desafio 04\n",
    "- Crie uma calculadora de IMC\n",
    "    - Imprima as seguintes condições:?\n",
    "        - imc <17: está com anorexia.\n",
    "        - imc <18.5: está abaixo do peso\n",
    "        - imc <25: está no peso ideal.\n",
    "        - imc <30: está acima do peso.\n",
    "        - imc <35: está com grau de obesidade I.\n",
    "        - imc <40: está com grau de obesidade II.\n",
    "        - imc: está com grau de obesidade mórbida."
   ]
  },
  {
   "cell_type": "code",
   "execution_count": null,
   "metadata": {},
   "outputs": [
    {
     "name": "stdout",
     "output_type": "stream",
     "text": [
      "Você está com anorexia.\n"
     ]
    }
   ],
   "source": [
    "# TODO: Resposta desafio 04\n",
    "\n",
    "altura = input(\"Digite a sua altura: \").replace(',','.')\n",
    "peso = input(\"Digite o seu peso: \").replace(',','.')\n",
    "\n",
    "altrua = float(altura)\n",
    "peso = float(peso)\n",
    "\n",
    "imc = peso / (altura * altura)\n",
    "\n",
    "\n",
    "if  imc  < 17:\n",
    "    print(\"Você está com anorexia.\")\n",
    "elif imc < 18.5:\n",
    "    print(\"Você está abaixo do peso\") \n",
    "elif  imc  < 25:\n",
    "    print(\"Você está no peso ideal.\")\n",
    "elif imc < 30:\n",
    "    print(\"Você está acima do peso.\")\n",
    "elif imc  < 35:\n",
    "    print(\"Você está com grau de obesidade I.\")\n",
    "elif imc < 40.5:\n",
    "    print(\"Você está com grau de obesidade II.\")\n",
    "else:  \n",
    "    print(\"Você está com grau de obesidade mórbida.\")\n"
   ]
  },
  {
   "cell_type": "markdown",
   "metadata": {},
   "source": [
    "## Desafio 05\n",
    "- Crie uma calculadora basica.\n",
    "    - Solicite 2 números do usuário e pergunte qual operação matemática ele deseja fazer.\n",
    "        -   +; -; /; *\n",
    "        - imprima o resultado correto para cada operação"
   ]
  },
  {
   "cell_type": "code",
   "execution_count": null,
   "metadata": {},
   "outputs": [
    {
     "name": "stdout",
     "output_type": "stream",
     "text": [
      "Esse é o resultado da sua operação:  200.0\n"
     ]
    }
   ],
   "source": [
    "# TODO: Resposta desafio 05\n",
    "\n",
    "num1 = float(input(\"Digite o primeiro número: \"))\n",
    "num2 = float(input(\"Digite o segundo número: \"))\n",
    "\n",
    "operacao = str(input(\"Qual operação você quer usar '+' para soma, '-' para subtração, '/' para divisão, '*' para multiplicação\"))\n",
    "\n",
    "if  operacao == '+':\n",
    "    print(\"Esse é o resultado da sua operação: \", num1 + num2)\n",
    "elif operacao == '-':\n",
    "    print(\"Esse é o resultado da sua operação: \", num1 - num2)\n",
    "elif operacao == '/':\n",
    "    print(\"Esse é o resultado da sua operação: \", num1 / num2)\n",
    "else:\n",
    "    print(\"Esse é o resultado da sua operação: \", num1 * num2)"
   ]
  }
 ],
 "metadata": {
  "language_info": {
   "name": "python"
  }
 },
 "nbformat": 4,
 "nbformat_minor": 2
}
