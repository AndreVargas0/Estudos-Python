{
 "cells": [
  {
   "cell_type": "markdown",
   "metadata": {},
   "source": [
    "# **AULA 10**\n"
   ]
  },
  {
   "cell_type": "markdown",
   "metadata": {},
   "source": [
    "##Lista\n",
    "- Declando uma lista \n",
    "- Manipulação de lista\n",
    "    - Adicionando um novo elemento na lista\n",
    "    - Adicionando elemento em uma posição na lista\n",
    "    - Removendo um elemento da lista\n",
    "    - Mostrando segundo, terceiro e quarto elemento da lista \n",
    "    - Mostrando o último elemento da lista\n",
    "    - Ordenado lista\n",
    "    - Pesquisando dados em uma lista (in, index, cont)"
   ]
  },
  {
   "cell_type": "code",
   "execution_count": 11,
   "metadata": {},
   "outputs": [
    {
     "name": "stdout",
     "output_type": "stream",
     "text": [
      "['Gomes', 'Oliveira', 'Lucas', 'Jose', 'Pedro', 'Maria', 'João', 'Lucas']\n",
      "\n",
      "Gomes\n",
      "Oliveira\n",
      "Lucas\n",
      "Jose\n",
      "Pedro\n",
      "Maria\n",
      "João\n",
      "Lucas\n",
      "\n",
      "O primeiro nome é Gomes\n",
      "\n",
      "O ultimo nome é Lucas\n",
      "\n",
      "['Gomes', 'Oliveira', 'Jose', 'Pedro', 'Maria', 'João', 'Lucas']\n",
      "\n",
      "['Oliveira', 'Jose', 'Pedro', 'Maria', 'João', 'Lucas']\n",
      "\n",
      "['Oliveira', 'Jose', 'Pedro', 'Maria', 'Lucas']\n"
     ]
    }
   ],
   "source": [
    "nome = [\"Gomes\", \"Oliveira\", \"Lucas\", \"Jose\", \"Pedro\", \"Maria\", \"João\", \"Lucas\"]\n",
    "\n",
    "#Print da lista\n",
    "print(nome)\n",
    "\n",
    "print()\n",
    "#Percorendo a lista\n",
    "for i in nome:\n",
    "    print(i)\n",
    "\n",
    "print()\n",
    "#Retornado um elemento especifico da lista\n",
    "print(f\"O primeiro nome é {nome[0]}\")\n",
    "\n",
    "print()\n",
    "#Retornado o ultimo elemento da lista\n",
    "print(f\"O ultimo nome é {nome[-1]}\")\n",
    "\n",
    "print()\n",
    "#Removendo iten da lista com remove\n",
    "nome.remove('Lucas')\n",
    "print(nome)\n",
    "\n",
    "print()\n",
    "#Removendo iten da lista com pop\n",
    "nome.pop(0)\n",
    "print(nome)\n"
   ]
  },
  {
   "cell_type": "code",
   "execution_count": 24,
   "metadata": {},
   "outputs": [
    {
     "name": "stdout",
     "output_type": "stream",
     "text": [
      "['Lucas', 'Jose', 'Pedro']\n",
      "['Gomes', 'Oliveira', 'Lucas', 'Maria', 'João', 'Lucas']\n",
      "\n",
      "['Gomes', 'Oliveira', 'Lucas']\n",
      "\n",
      "['Jose', 'Pedro', 'Maria', 'João', 'Lucas']\n"
     ]
    }
   ],
   "source": [
    "nome = [\"Gomes\", \"Oliveira\", \"Lucas\", \"Jose\", \"Pedro\", \"Maria\", \"João\", \"Lucas\"]\n",
    "\n",
    "#Imprimindo um intervalo\n",
    "print((nome[2:5]))\n",
    "\n",
    "\n",
    "#Removendo um intervalo de itens \n",
    "del nome [3:5]\n",
    "print(nome)\n",
    "\n",
    "print()\n",
    "\n",
    "nome1 = [\"Gomes\", \"Oliveira\", \"Lucas\", \"Jose\", \"Pedro\", \"Maria\", \"João\", \"Lucas\"]\n",
    "\n",
    "\n",
    "#Removendo um intervalo de itens \n",
    "del nome1 [3:]\n",
    "print(nome1)\n",
    "\n",
    "print()\n",
    "\n",
    "nome2 = [\"Gomes\", \"Oliveira\", \"Lucas\", \"Jose\", \"Pedro\", \"Maria\", \"João\", \"Lucas\"]\n",
    "\n",
    "del nome2 [:3]\n",
    "print(nome2)"
   ]
  },
  {
   "cell_type": "code",
   "execution_count": 35,
   "metadata": {},
   "outputs": [
    {
     "name": "stdout",
     "output_type": "stream",
     "text": [
      "['Gomes', 'Oliveira', 'Lucas', 'Jose', 'Pedro', 'Maria', 'João', 'Lucas', 'Cleber']\n",
      "['Gomes', 'Oliveira', 'Lucas', 'Jose', 'Pedro', 'Maria', 'João', 'Lucas', 'bruno', 'Cleber']\n"
     ]
    }
   ],
   "source": [
    "nome = [\"Gomes\", \"Oliveira\", \"Lucas\", \"Jose\", \"Pedro\", \"Maria\", \"João\", \"Lucas\"]\n",
    "\n",
    "#Adicionando elementos\n",
    "nome.append(\"Cleber\")\n",
    "print(nome)\n",
    "\n",
    "nome.insert(-1,\"bruno\")\n",
    "print(nome)\n"
   ]
  },
  {
   "cell_type": "code",
   "execution_count": 42,
   "metadata": {},
   "outputs": [
    {
     "name": "stdout",
     "output_type": "stream",
     "text": [
      "1° nome da lista: Gomes\n",
      "2° nome da lista: Oliveira\n",
      "3° nome da lista: Lucas\n",
      "4° nome da lista: Jose\n",
      "5° nome da lista: Pedro\n",
      "6° nome da lista: Maria\n",
      "7° nome da lista: João\n",
      "8° nome da lista: Lucas\n",
      "\n",
      "1° nome da lista: Gomes\n",
      "2° nome da lista: Oliveira\n",
      "3° nome da lista: andre\n",
      "4° nome da lista: Lucas\n",
      "5° nome da lista: Jose\n",
      "6° nome da lista: Pedro\n",
      "7° nome da lista: Maria\n",
      "8° nome da lista: João\n",
      "9° nome da lista: Lucas\n"
     ]
    }
   ],
   "source": [
    "nome = [\"Gomes\", \"Oliveira\", \"Lucas\", \"Jose\", \"Pedro\", \"Maria\", \"João\", \"Lucas\"]\n",
    "\n",
    "#Print da lista \n",
    "for i in range(len(nome)):\n",
    "    print(f\"{i +1}° nome da lista: {nome[i]}\")\n",
    "\n",
    "#Recebendo novo nome para adicionar na lista\n",
    "novo_nome = input(\"Digite um nome para ser adicionado na lista: \")\n",
    "\n",
    "#Recebendo posição para adicionar na lista\n",
    "posicao = int(input(\"Digite a posição desejado para o novo nome: \"))\n",
    "\n",
    "posicao -= 1\n",
    "\n",
    "print()\n",
    "if posicao >= 0 and posicao <= len(nome):\n",
    "    nome.insert(posicao, novo_nome)\n",
    "else:\n",
    "    print(\"Posição invalida\")\n",
    "\n",
    "for i in range (len(nome)):   \n",
    "    print(f\"{i +1}° nome da lista: {nome[i]}\") \n",
    "\n"
   ]
  },
  {
   "cell_type": "code",
   "execution_count": 45,
   "metadata": {},
   "outputs": [
    {
     "name": "stdout",
     "output_type": "stream",
     "text": [
      "Lista desordenada [10, 9, 8, 7, 6, 5, 4, 3, 2, 1]\n",
      "Lista ordenada [1, 2, 3, 4, 5, 6, 7, 8, 9, 10]\n",
      "Lista ordenada [10, 9, 8, 7, 6, 5, 4, 3, 2, 1]\n"
     ]
    }
   ],
   "source": [
    "lista = [10,9,8,7,6,5,4,3,2,1]\n",
    "\n",
    "print(f\"Lista desordenada {lista}\")\n",
    "\n",
    "lista.sort()\n",
    "\n",
    "print(f\"Lista ordenada {lista}\")\n",
    "\n",
    "\n",
    "lista.sort(reverse=True)\n",
    "\n",
    "print(f\"Lista ordenada decrecente {lista}\")"
   ]
  }
 ],
 "metadata": {
  "kernelspec": {
   "display_name": ".venv",
   "language": "python",
   "name": "python3"
  },
  "language_info": {
   "codemirror_mode": {
    "name": "ipython",
    "version": 3
   },
   "file_extension": ".py",
   "mimetype": "text/x-python",
   "name": "python",
   "nbconvert_exporter": "python",
   "pygments_lexer": "ipython3",
   "version": "3.12.4"
  }
 },
 "nbformat": 4,
 "nbformat_minor": 2
}
