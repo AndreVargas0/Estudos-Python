{
 "cells": [
  {
   "cell_type": "markdown",
   "metadata": {},
   "source": [
    "# **Comandos Git**"
   ]
  },
  {
   "cell_type": "markdown",
   "metadata": {},
   "source": [
    "- Configuar o email\n",
    "> git config --globol user.email \n",
    "- Configuar o nome do usuario\n",
    "> git config --globol user.name  \n",
    "- Verifica se o reportorio está conectado\n",
    "> Git remote -v\n",
    "- Vê os arquivos que não estão up/foram modificados\n",
    "> git status \n",
    "- Adiciona todos os arquivos para ser enviado \n",
    "> Git add .         \n",
    "- Adiciona o arquivo para ser enviado\n",
    "> Git add _nome do arquivo_\n",
    "- Define o nome do commit\n",
    ">Git commit -m \"Nome do commit\"\n",
    "- Envia o arquivo para a master\n",
    ">Git push origin master\n",
    "- Remover rapositório \n",
    ">git remote remove <nome do repositório>"
   ]
  },
  {
   "cell_type": "markdown",
   "metadata": {},
   "source": []
  }
 ],
 "metadata": {
  "language_info": {
   "name": "python"
  }
 },
 "nbformat": 4,
 "nbformat_minor": 2
}
