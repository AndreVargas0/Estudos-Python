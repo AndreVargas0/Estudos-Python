{
 "cells": [
  {
   "cell_type": "markdown",
   "metadata": {},
   "source": [
    "# **AULA 3**\n",
    "1. Git nit - para iniciar \n",
    "2. git status - para ver qual arquivos não estão atualizados/enviados para o repositório\n",
    "3. git add para adicionar o arquivo a lista de transfererencia ( git add . - para adicionar todos os arquivos, git add _nome do arquivo_ - para adicionar um arquivo especifico)\n",
    "4. git commit -n - salva uma versão no repositório"
   ]
  },
  {
   "cell_type": "code",
   "execution_count": null,
   "metadata": {},
   "outputs": [],
   "source": []
  }
 ],
 "metadata": {
  "kernelspec": {
   "display_name": ".venv",
   "language": "python",
   "name": "python3"
  },
  "language_info": {
   "codemirror_mode": {
    "name": "ipython",
    "version": 3
   },
   "file_extension": ".py",
   "mimetype": "text/x-python",
   "name": "python",
   "nbconvert_exporter": "python",
   "pygments_lexer": "ipython3",
   "version": "3.12.4"
  }
 },
 "nbformat": 4,
 "nbformat_minor": 2
}
