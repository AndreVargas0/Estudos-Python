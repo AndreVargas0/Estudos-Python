{
 "cells": [
  {
   "cell_type": "markdown",
   "metadata": {},
   "source": [
    "# **AULA 5**"
   ]
  },
  {
   "cell_type": "code",
   "execution_count": 17,
   "metadata": {},
   "outputs": [
    {
     "name": "stdout",
     "output_type": "stream",
     "text": [
      "if é verdadeiro <class 'bool'>\n",
      "maior\n"
     ]
    }
   ],
   "source": [
    "programador = True\n",
    "num = 10\n",
    "\n",
    "if programador:\n",
    "    print(\"if é verdadeiro\", type(programador))\n",
    "    if num >= 10:\n",
    "        print(\"maior\")\n",
    "    else:\n",
    "        print(\"menor\")\n",
    "else:\n",
    "    print(\"If é falso\", type(programador))"
   ]
  },
  {
   "cell_type": "code",
   "execution_count": 31,
   "metadata": {},
   "outputs": [
    {
     "name": "stdout",
     "output_type": "stream",
     "text": [
      "Pode andar na montanha russa!\n",
      "Não pode andar na montanha russa!\n"
     ]
    }
   ],
   "source": [
    "Idade = 25\n",
    "Altura = 1.3\n",
    "# and\n",
    "# or\n",
    "\n",
    "if Altura >= 1.6  or Idade >= 18 :\n",
    "    print(\"Pode andar na montanha russa!\")\n",
    "else: \n",
    "    print(\"Não pode andar na montanha russa!\")\n",
    "\n",
    "if Altura >= 1.6  and Idade >= 18 :\n",
    "    print(\"Pode andar na montanha russa!\")\n",
    "else: \n",
    "    print(\"Não pode andar na montanha russa!\")"
   ]
  },
  {
   "cell_type": "markdown",
   "metadata": {},
   "source": [
    "Sistema que verifica se o número é par ou impar"
   ]
  },
  {
   "cell_type": "code",
   "execution_count": 66,
   "metadata": {},
   "outputs": [
    {
     "name": "stdout",
     "output_type": "stream",
     "text": [
      "O número 3 é impar\n"
     ]
    }
   ],
   "source": [
    "n1 = int(input(\"Digite o número para saber se ele é par ou impar: \"))\n",
    "if n1 % 2 == 0 :\n",
    "    print(f\"O número {n1} é par\")\n",
    "else:\n",
    "    print(f\"O número {n1} é impar\")"
   ]
  },
  {
   "cell_type": "markdown",
   "metadata": {},
   "source": [
    "- Um elevador de carga possui capacidade para 200kg\n",
    "\n",
    "    - crie um programa que receba do usuario o peso da carga, ou seu peso e verifica se a carga está autorizada a usar o elevador ou não."
   ]
  },
  {
   "cell_type": "code",
   "execution_count": 130,
   "metadata": {},
   "outputs": [
    {
     "name": "stdout",
     "output_type": "stream",
     "text": [
      "Pode usar o elevador!\n"
     ]
    }
   ],
   "source": [
    "possuicarga = (input(\"Você está com carga? Digite 'S' para sim e 'N' para não\"))\n",
    "possuicarga = possuicarga.upper()\n",
    "\n",
    "if possuicarga == \"S\":\n",
    "    pesodacarga = float(input(\"Digite o peso da carga\"))\n",
    "\n",
    "    pesodapesssoa = float(input(\"Digite o seu peso\"))\n",
    "else:\n",
    "    pesodapesssoa = float(input(\"Digite o seu peso\"))\n",
    "\n",
    "if pesodacarga + pesodapesssoa <= 200:\n",
    "    print(\"Pode usar o elevador!\")\n",
    "else: \n",
    "    print(\"Você não pode usar o elevador\")\n"
   ]
  },
  {
   "cell_type": "code",
   "execution_count": 131,
   "metadata": {},
   "outputs": [
    {
     "name": "stdout",
     "output_type": "stream",
     "text": [
      "Está de recuperação\n"
     ]
    }
   ],
   "source": [
    "nome = \"Beltrano\"\n",
    "nota = 6\n",
    "if nota >= 7:\n",
    "    print(\"Está aprovodado\")\n",
    "elif nota >= 5:\n",
    "    print(\"Está de recuperação\")\n",
    "else:\n",
    "    print(\"Está reprovado\")"
   ]
  },
  {
   "cell_type": "markdown",
   "metadata": {},
   "source": [
    "## Desafio 3\n",
    "- Crie um sistema para coletar os dados do aluno, (nome, idade, cpf), em seguida solicite as notas dos 4 bimestres da diciplina de Python que o aluno teve para verificar a MEDIA.\n",
    "    - Media para aprovação >= 7\n",
    "    - Media para recuperação >= 5\n",
    "    - Media para reprovação = <5\n",
    "- Para retirar o boletim de notas, o aluno precisa ser maior de idade(18) e caso não seja, somente os pais podem retirar o boletim.\n",
    "    - Imprima as informações do aluno\n",
    "    - Imprima as notas do aluno em cada bimestre\n",
    "    - Imprima a situação do aluno (aprovado, reprovado, recuperação)\n",
    "    - Imprima se o boletim sera retirado pelos pais ou pelo proprio aluno"
   ]
  },
  {
   "cell_type": "code",
   "execution_count": 17,
   "metadata": {},
   "outputs": [
    {
     "name": "stdout",
     "output_type": "stream",
     "text": [
      "O boletim só pode ser retirado pelos pais\n",
      "------------------------------ BOLETIM ESCOLAR ------------------------------\n",
      "Boletim do aluno andre de 18 anos de idade de cpf: 054 da turma da diciplina de Python\n",
      "Essas são as notas:\n",
      "Nota do primeiro bimeste é 10\n",
      "Nota do primeiro bimeste é 10\n",
      "Nota do primeiro bimeste é 10\n",
      "Nota do primeiro bimeste é 10\n",
      "A média: 10.0\n",
      "Está aprovodado\n"
     ]
    }
   ],
   "source": [
    "\n",
    "# aluno = str(input(\"Digite o nome do aluno: \"))\n",
    "# idade = int(input(\"Digite a idade do aluno: \"))\n",
    "# cpf = str(input(\"Digite o cpf do aluno: \"))\n",
    "# nota1 = float(input(\"Digite a nota do primeiro bimestre da diciplina de Python\"))\n",
    "# nota2 = float(input(\"Digite a nota do segundo bimestre da diciplina de Python\"))\n",
    "# nota3 = float(input(\"Digite a nota do terceiro bimestre da diciplina de Python\"))\n",
    "# nota4 = float(input(\"Digite a nota do quarto bimestre da diciplina de Python\"))\n",
    "\n",
    "aluno = 'andre'\n",
    "idade = int(18)\n",
    "cpf = str(input(\"Digite o cpf do aluno: \"))\n",
    "nota1 = 10\n",
    "nota2 = 10\n",
    "nota3 = 10\n",
    "nota4 = 10\n",
    "\n",
    "if idade < 18: \n",
    "    paisdoaluno = (input(\"Os pais do aluno estão presente? Digite 'S' para sim e 'N' para não\")).upper()\n",
    "else: \n",
    "    print(\"O boletim só pode ser retirado pelos pais\")\n",
    "\n",
    "media = (nota1 + nota2 + nota3 + nota4 ) / 4\n",
    "\n",
    "\n",
    "if idade >= 18 or paisdoaluno == \"S\":\n",
    "    print(30*\"-\", \"BOLETIM ESCOLAR\", 30*\"-\")\n",
    "    print(f\"Boletim do aluno {aluno} de {idade} anos de idade de cpf: {cpf} da turma da diciplina de Python\")\n",
    "    print(f\"Essas são as notas:\")\n",
    "    print(f\"Nota do primeiro bimeste é {nota1}\")\n",
    "    print(f\"Nota do primeiro bimeste é {nota2}\")\n",
    "    print(f\"Nota do primeiro bimeste é {nota3}\")\n",
    "    print(f\"Nota do primeiro bimeste é {nota4}\")\n",
    "    print(f\"A média: {media}\")\n",
    "    if media >= 7:\n",
    "        print(\"Está aprovodado\")\n",
    "    elif media >= 5:\n",
    "        print(\"Está de recuperação\")\n",
    "    else:\n",
    "        print(\"Está reprovado\")\n",
    "else:\n",
    "    print(\"O boletim só pode ser retirado pelos pais\")"
   ]
  },
  {
   "cell_type": "code",
   "execution_count": 12,
   "metadata": {},
   "outputs": [
    {
     "ename": "SyntaxError",
     "evalue": "leading zeros in decimal integer literals are not permitted; use an 0o prefix for octal integers (1377853843.py, line 2)",
     "output_type": "error",
     "traceback": [
      "\u001b[1;36m  Cell \u001b[1;32mIn[12], line 2\u001b[1;36m\u001b[0m\n\u001b[1;33m    cpf = (054355)\u001b[0m\n\u001b[1;37m           ^\u001b[0m\n\u001b[1;31mSyntaxError\u001b[0m\u001b[1;31m:\u001b[0m leading zeros in decimal integer literals are not permitted; use an 0o prefix for octal integers\n"
     ]
    }
   ],
   "source": [
    "cpf = str(cpf)\n",
    "cpf = (054355)\n",
    "print(cpf)"
   ]
  }
 ],
 "metadata": {
  "kernelspec": {
   "display_name": ".venv",
   "language": "python",
   "name": "python3"
  },
  "language_info": {
   "codemirror_mode": {
    "name": "ipython",
    "version": 3
   },
   "file_extension": ".py",
   "mimetype": "text/x-python",
   "name": "python",
   "nbconvert_exporter": "python",
   "pygments_lexer": "ipython3",
   "version": "3.12.4"
  }
 },
 "nbformat": 4,
 "nbformat_minor": 2
}
