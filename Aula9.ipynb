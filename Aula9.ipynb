{
 "cells": [
  {
   "cell_type": "markdown",
   "metadata": {},
   "source": [
    "# **AULA 9**\n"
   ]
  },
  {
   "cell_type": "markdown",
   "metadata": {},
   "source": [
    "O laço 'for' é um dos loops mais usado na programação.É um laço de repetição como o anterior também,mas com uma diferença: é sempre executado com um número finito de vezes,evitando que o programa entre em loop infinito.A desvantagem em relação so while é que o número de loops dessa vez é ditado pelo prórpio programa ao invés do usuário final.Este, por sua vez, não possui controle sobre o número de loops a ser executado no for, ou pelo menos não diretamente.Para fins de exemplo, vamos executar um programa parecido com o primeiro programa dessa aula, mas desta vez, o programa irá exibir números de 0 a 4.Segue algoritmo:"
   ]
  },
  {
   "cell_type": "code",
   "execution_count": 1,
   "metadata": {},
   "outputs": [
    {
     "name": "stdout",
     "output_type": "stream",
     "text": [
      "A\n",
      "l\n",
      "a\n",
      "n\n",
      "a\n"
     ]
    }
   ],
   "source": [
    "nome = 'Alana'\n",
    "for n in nome:\n",
    "    print (n)\n"
   ]
  },
  {
   "cell_type": "code",
   "execution_count": 2,
   "metadata": {},
   "outputs": [
    {
     "name": "stdout",
     "output_type": "stream",
     "text": [
      "gomes\n",
      "Karython\n",
      "jose\n",
      "André\n"
     ]
    }
   ],
   "source": [
    "nome = [\"gomes\", \"Karython\", \"jose\",\"André\"]\n",
    "\n",
    "for n in nome:\n",
    "    print(n)"
   ]
  },
  {
   "cell_type": "code",
   "execution_count": 4,
   "metadata": {},
   "outputs": [
    {
     "name": "stdout",
     "output_type": "stream",
     "text": [
      "Margarete\n",
      "Gabrielle\n",
      "Alana\n",
      "Joana\n",
      "0\n",
      "2\n",
      "4\n",
      "6\n",
      "8\n",
      "10\n",
      "12\n",
      "14\n",
      "16\n",
      "18\n",
      "20\n"
     ]
    }
   ],
   "source": [
    "\n",
    "nome = {'Alana','Gabrielle','Margarete','Joana'}\n",
    "lista= []\n",
    "for n in nome:\n",
    "    print(n)\n",
    "\n",
    "for i in range(0,21):\n",
    "    if i % 2 == 0:\n",
    "        print(i)\n"
   ]
  },
  {
   "cell_type": "code",
   "execution_count": 5,
   "metadata": {},
   "outputs": [
    {
     "name": "stdout",
     "output_type": "stream",
     "text": [
      "10\n",
      "12\n",
      "14\n",
      "16\n",
      "18\n",
      "20\n",
      "22\n",
      "24\n",
      "26\n",
      "28\n",
      "30\n",
      "32\n",
      "34\n",
      "36\n",
      "38\n",
      "40\n",
      "42\n",
      "44\n",
      "46\n",
      "48\n"
     ]
    }
   ],
   "source": [
    "termo = int(input(\"Digite o primeiro termo: \"))\n",
    "razao = int(input(\"Digite a razão: \"))\n",
    "pa = termo + (20 -1) * razao\n",
    "\n",
    "for i in range(termo, pa + razao,razao):\n",
    "    print(i)"
   ]
  },
  {
   "cell_type": "code",
   "execution_count": 20,
   "metadata": {},
   "outputs": [
    {
     "name": "stdout",
     "output_type": "stream",
     "text": [
      "andre\n",
      "Jose\n",
      "Luiz\n",
      "1°  nome: andre\n",
      "2°  nome: Jose\n",
      "3°  nome: Luiz\n",
      "4°  nome: Lucca\n",
      "5°  nome: Bruno\n",
      "\n",
      "1°  nome: andre\n",
      "2°  nome: Jose\n",
      "3°  nome: Luiz\n",
      "4°  nome: Lucca\n",
      "5°  nome: Bruno\n",
      "\n",
      "1°  nome: andre\n",
      "2°  nome: Jose\n"
     ]
    }
   ],
   "source": [
    "lista = [\"andre\", \"Jose\", \"Luiz\", \"Lucca\",\"Bruno\"]\n",
    "\n",
    "print((lista[0]))\n",
    "print((lista[1]))\n",
    "print((lista[2]))\n",
    "\n",
    "cont=int(input(\"Digite a quantidade de pessoas a serem sorteadas \"))\n",
    " \n",
    "for i in range(5):\n",
    "    print(f'{i + 1}°  nome: {lista[i]}')\n",
    "print()\n",
    "\n",
    "for i in range(len(lista)):\n",
    "    print(f'{i + 1}°  nome: {lista[i]}')\n",
    "print()\n",
    "\n",
    "for i in range(cont):\n",
    "    print(f'{i + 1}°  nome: {lista[i]}')"
   ]
  },
  {
   "cell_type": "code",
   "execution_count": 32,
   "metadata": {},
   "outputs": [
    {
     "name": "stdout",
     "output_type": "stream",
     "text": [
      "Tabuada do  3\n",
      "3 x 1 = 3 \n",
      "3 x 2 = 6 \n",
      "3 x 3 = 9 \n",
      "3 x 4 = 12 \n",
      "3 x 5 = 15 \n",
      "3 x 6 = 18 \n",
      "3 x 7 = 21 \n",
      "3 x 8 = 24 \n",
      "3 x 9 = 27 \n",
      "3 x 10 = 30 \n",
      "\n",
      "Tabuada do  4\n",
      "4 x 1 = 4 \n",
      "4 x 2 = 8 \n",
      "4 x 3 = 12 \n",
      "4 x 4 = 16 \n",
      "4 x 5 = 20 \n",
      "4 x 6 = 24 \n",
      "4 x 7 = 28 \n",
      "4 x 8 = 32 \n",
      "4 x 9 = 36 \n",
      "4 x 10 = 40 \n",
      "\n",
      "Tabuada do  5\n",
      "5 x 1 = 5 \n",
      "5 x 2 = 10 \n",
      "5 x 3 = 15 \n",
      "5 x 4 = 20 \n",
      "5 x 5 = 25 \n",
      "5 x 6 = 30 \n",
      "5 x 7 = 35 \n",
      "5 x 8 = 40 \n",
      "5 x 9 = 45 \n",
      "5 x 10 = 50 \n",
      "\n",
      "Tabuada do  6\n",
      "6 x 1 = 6 \n",
      "6 x 2 = 12 \n",
      "6 x 3 = 18 \n",
      "6 x 4 = 24 \n",
      "6 x 5 = 30 \n",
      "6 x 6 = 36 \n",
      "6 x 7 = 42 \n",
      "6 x 8 = 48 \n",
      "6 x 9 = 54 \n",
      "6 x 10 = 60 \n",
      "\n",
      "Tabuada do  7\n",
      "7 x 1 = 7 \n",
      "7 x 2 = 14 \n",
      "7 x 3 = 21 \n",
      "7 x 4 = 28 \n",
      "7 x 5 = 35 \n",
      "7 x 6 = 42 \n",
      "7 x 7 = 49 \n",
      "7 x 8 = 56 \n",
      "7 x 9 = 63 \n",
      "7 x 10 = 70 \n",
      "\n",
      "Tabuada do  8\n",
      "8 x 1 = 8 \n",
      "8 x 2 = 16 \n",
      "8 x 3 = 24 \n",
      "8 x 4 = 32 \n",
      "8 x 5 = 40 \n",
      "8 x 6 = 48 \n",
      "8 x 7 = 56 \n",
      "8 x 8 = 64 \n",
      "8 x 9 = 72 \n",
      "8 x 10 = 80 \n",
      "\n",
      "Tabuada do  9\n",
      "9 x 1 = 9 \n",
      "9 x 2 = 18 \n",
      "9 x 3 = 27 \n",
      "9 x 4 = 36 \n",
      "9 x 5 = 45 \n",
      "9 x 6 = 54 \n",
      "9 x 7 = 63 \n",
      "9 x 8 = 72 \n",
      "9 x 9 = 81 \n",
      "9 x 10 = 90 \n",
      "\n",
      "Tabuada do  10\n",
      "10 x 1 = 10 \n",
      "10 x 2 = 20 \n",
      "10 x 3 = 30 \n",
      "10 x 4 = 40 \n",
      "10 x 5 = 50 \n",
      "10 x 6 = 60 \n",
      "10 x 7 = 70 \n",
      "10 x 8 = 80 \n",
      "10 x 9 = 90 \n",
      "10 x 10 = 100 \n",
      "\n"
     ]
    }
   ],
   "source": [
    "x = int(input(\"Digite o número da tabuada que você deseja (até a tabuada do 10): \"))\n",
    "while True: \n",
    "    print(\"Tabuada do \",x)\n",
    "    for num in range(1,11):\n",
    "        print(f\"{x} x {num} = {x * num} \")\n",
    "    x = x + 1 \n",
    "    print()\n",
    "    if x >= 11:\n",
    "         break\n",
    "    else:\n",
    "        continue\n",
    "    "
   ]
  }
 ],
 "metadata": {
  "kernelspec": {
   "display_name": ".venv",
   "language": "python",
   "name": "python3"
  },
  "language_info": {
   "codemirror_mode": {
    "name": "ipython",
    "version": 3
   },
   "file_extension": ".py",
   "mimetype": "text/x-python",
   "name": "python",
   "nbconvert_exporter": "python",
   "pygments_lexer": "ipython3",
   "version": "3.12.4"
  }
 },
 "nbformat": 4,
 "nbformat_minor": 2
}
